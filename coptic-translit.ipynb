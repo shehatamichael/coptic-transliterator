{
  "cells":[
    {
      "cell_type":"code",
      "source":[
        "conda install -c conda-forge pynini"
      ],
      "execution_count":2,
      "outputs":[
        {
          "name":"stdout",
          "text":[
            "Collecting package metadata (current_repodata.json): - \b\b\\ \b\b| \b\b\/ \b\b- \b\b\\ \b\b| \b\b\/ \b\b- \b\b\\ \b\b| \b\b\/ \b\b- \b\b\\ \b\b| \b\b\/ \b\b- \b\b\\ \b\b| \b\b\/ \b\b- \b\b\\ \b\b| \b\b\/ \b\b- \b\b\\ \b\b| \b\b\/ \b\b- \b\b\\ \b\b| \b\b\/ \b\b- \b\b\\ \b\b| \b\b\/ \b\b- \b\b\\ \b\b| \b\b\/ \b\b- \b\b\\ \b\b| \b\b\/ \b\b- \b\b\\ \b\b| \b\b\/ \b\b- \b\b\\ \b\b| \b\b\/ \b\b- \b\b\\ \b\b| \b\b\/ \b\b- \b\b\\ \b\b| \b\b\/ \b\b- \b\b\\ \b\b| \b\b\/ \b\b- \b\b\\ \b\b| \b\bdone\r\n",
            "Solving environment: - \b\b\\ \b\b| \b\b\/ \b\b- \b\b\\ \b\b| \b\b\/ \b\b- \b\b\\ \b\b| \b\b\/ \b\b- \b\b\\ \b\b| \b\b\/ \b\b- \b\b\\ \b\b| \b\b\/ \b\b- \b\b\\ \b\b| \b\b\/ \b\b- \b\b\\ \b\b| \b\b\/ \b\b- \b\b\\ \b\b| \b\b\/ \b\b- \b\b\\ \b\b| \b\b\/ \b\b- \b\b\\ \b\b| \b\b\/ \b\b- \b\b\\ \b\b| \b\b\/ \b\b- \b\b\\ \b\b| \b\b\/ \b\b- \b\b\\ \b\b| \b\b\/ \b\b- \b\b\\ \b\b| \b\b\/ \b\b- \b\b\\ \b\b| \b\b\/ \b\b- \b\b\\ \b\b| \b\b\/ \b\b- \b\b\\ \b\b| \b\b\/ \b\b- \b\b\\ \b\b| \b\b\/ \b\b- \b\b\\ \b\b| \b\b\/ \b\b- \b\b\\ \b\b| \b\b\/ \b\b- \b\b\\ \b\b| \b\b\/ \b\bdone\r\n",
            "\r\n",
            "\r\n",
            "==> WARNING: A newer version of conda exists. <==\r\n",
            "  current version: 4.7.12\r\n",
            "  latest version: 4.8.2\r\n",
            "\r\n",
            "Please update conda by running\r\n",
            "\r\n",
            "    $ conda update -n base -c defaults conda\r\n",
            "\r\n",
            "\r\n",
            "\r\n",
            "## Package Plan ##\r\n",
            "\r\n",
            "  environment location: \/opt\/anaconda3\/envs\/datalore-user\r\n",
            "\r\n",
            "  added \/ updated specs:\r\n",
            "    - pynini\r\n",
            "\r\n",
            "\r\n",
            "The following packages will be downloaded:\r\n",
            "\r\n",
            "    package                    |            build\r\n",
            "    ---------------------------|-----------------\r\n",
            "    openfst-1.7.5              |       he513fc3_1         7.5 MB  conda-forge\r\n",
            "    pynini-2.0.9.post2         |   py37hc9558a2_0         1.9 MB  conda-forge\r\n",
            "    ------------------------------------------------------------\r\n",
            "                                           Total:         9.3 MB\r\n",
            "\r\n",
            "The following NEW packages will be INSTALLED:\r\n",
            "\r\n",
            "  openfst            conda-forge\/linux-64::openfst-1.7.5-he513fc3_1\r\n",
            "  pynini             conda-forge\/linux-64::pynini-2.0.9.post2-py37hc9558a2_0\r\n",
            "\r\n",
            "\r\n",
            "\r\n",
            "Downloading and Extracting Packages\r\n",
            "\ropenfst-1.7.5        | 7.5 MB    |                                       |   0% \ropenfst-1.7.5        | 7.5 MB    | #######5                              |  20% \ropenfst-1.7.5        | 7.5 MB    | #################################4    |  91% \ropenfst-1.7.5        | 7.5 MB    | ##################################### | 100% \r\n",
            "\rpynini-2.0.9.post2   | 1.9 MB    |                                       |   0% \rpynini-2.0.9.post2   | 1.9 MB    | ##################################### | 100% \r\n",
            "Preparing transaction: \\ \b\bdone\r\n",
            "Verifying transaction: \/ \b\b- \b\bdone\r\n",
            "Executing transaction: | \b\bdone\r\n",
            "\n",
            "Note: you may need to restart the kernel to use updated packages.\n"
          ],
          "output_type":"stream"
        }
      ],
      "metadata":{
        
      }
    },
    {
      "cell_type":"code",
      "source":[
        "import pynini"
      ],
      "execution_count":3,
      "outputs":[
        
      ],
      "metadata":{
        
      }
    },
    {
      "cell_type":"code",
      "source":[
        "word = 'ⲥⲟⲃⲧ Ⲍⲁⲭⲁⲣⲓⲁⲥ ⲙⲉⲧⲁⲛⲟⲓⲁ ⲃⲁⲡⲧⲓⲥⲙⲁ ⲁⲃⲣⲁⲁⲙ ϩⲟⲃⲥ ⲟⲩⲏⲃ ⲭⲉⲣⲟⲃⲓⲙ ⲉⲗⲉⲏⲥⲟⲛ.'\n",
        "\n",
        "#TODO: Finish this loop to take in a file and iterate the above rules over its content\n",
        "# with open ('filename') as f:\n",
        "#     for line in f:\n",
        "#         line = line.strip()\n",
        "#         line @"
      ],
      "execution_count":6,
      "outputs":[
        
      ],
      "metadata":{
        
      }
    },
    {
      "cell_type":"code",
      "source":[
        "#sigma\n",
        "\n",
        "coptic_sigma = pynini.union(\"ⲁ\", \"Ⲁ\", \"ⲃ\", \"Ⲃ\", \"ⲅ\", \"Ⲅ\", \"ⲇ\", \"Ⲇ\", \"ⲉ\", \"Ⲉ\", \"ⲋ\", \"Ⲋ\", \"ⲍ\", \"Ⲍ\", \"ⲏ\", \"Ⲏ\", \n",
        "                            \"ⲑ\", \"Ⲑ\", \"ⲓ\", \"Ⲓ\", \"ⲕ\", \"Ⲕ\", \"ⲗ\", \"Ⲗ\", \"ⲙ\", \"Ⲙ\", \"ⲛ\", \"Ⲛ\", \"ⲝ\", \"Ⲝ\", \"ⲟ\", \"Ⲟ\", \n",
        "                            \"ⲡ\", \"Ⲡ\", \"ⲣ\", \"Ⲣ\", \"ⲥ\", \"Ⲥ\", \"ⲧ\", \"Ⲧ\", \"ⲩ\", \"Ⲩ\", \"ⲫ\", \"Ⲫ\", \"ⲭ\", \"Ⲭ\", \"ⲯ\", \"Ⲯ\", \n",
        "                            \"ⲱ\", \"Ⲱ\", \"ϣ\", \"Ϣ\", \"ϥ\", \"Ϥ\", \"ϧ\", \"Ϧ\", \"ϩ\", \"Ϩ\", \"ϫ\", \"Ϫ\", \"ϭ\", \"Ϭ\", \"ϯ\", \"Ϯ\")\n",
        "\n",
        "latin_sigma = pynini.union(\"a\", \"A\", \"b\", \"B\", \"c\", \"C\", \"d\", \"D\", \"e\", \"E\", \"f\", \"F\", \"g\", \"G\", \"h\", \"H\", \"i\", \n",
        "                           \"I\", \"j\", \"J\", \"k\", \"K\", \"l\", \"L\", \"m\", \"M\", \"n\", \"N\", \"o\", \"O\", \"p\", \"P\", \"q\", \"Q\", \n",
        "                           \"r\", \"R\", \"s\", \"S\", \"t\", \"T\", \"u\", \"U\", \"v\", \"V\", \"w\", \"W\", \"x\", \"X\", \"y\", \"Y\", \"z\", \n",
        "                           \"Z\")\n",
        "\n",
        "#missing backslash \"\\\" due to \"FstStringCompilationError: String compilation failed\" error\n",
        "punct_whitespace_sigma = pynini.union(\"!\", '\"', \"#\", \"$\", \"%\", \"&\", \"'\", \"(\", \")\", \"*\", \"+\", \",\", \"-\",\n",
        "                         \".\", \"\/\", \":\", \";\", \"<\", \"=\", \">\", \"?\", \"@\", \"\\[\", \"\\]\", \"^\", \"_\", \n",
        "                          \"`\", \"{\", \"|\", \"}\", \"~\", \" \")\n",
        "\n",
        "wb = \"[WB]\"\n",
        "\n",
        "ipa_sigma = pynini.union(\"æ\", \"ə\", \"ɛ\", \"ɑː\")\n",
        "\n",
        "vowels = pynini.union(\"ⲁ\", \"Ⲁ\", \"ⲟ\", \"Ⲟ\", \"ⲱ\", \"Ⲱ\", \"ⲓ\", \"Ⲓ\", \"ⲏ\", \"Ⲏ\", \"ⲉ\", \"Ⲉ\")\n",
        "\n",
        "sigma = pynini.union(coptic_sigma, latin_sigma, punct_whitespace_sigma, vowels, ipa_sigma, wb)\n",
        "\n",
        "sigma_star = pynini.closure(sigma)"
      ],
      "execution_count":7,
      "outputs":[
        
      ],
      "metadata":{
        
      }
    },
    {
      "cell_type":"code",
      "source":[
        "#rules\n",
        "\n",
        "insert_wb = pynini.transducer(\"\", \"[WB]\")\n",
        "# pynini.t(\"\", \"[WB]\") + sigma_star + pynini.t(\"\", \"[WB]\")\n",
        "# Add WB when coptic letters are on the left and whitespace or punctuation are on the right\n",
        "rule_addwb_1 = pynini.cdrewrite(insert_wb, coptic_sigma, punct_whitespace_sigma, sigma_star)\n",
        "# Add WB when whitespace or punctuation are on the left and coptic letters are on the right\n",
        "rule_addwb_2 = pynini.cdrewrite(insert_wb, punct_whitespace_sigma, coptic_sigma, sigma_star)\n",
        "\n",
        "rule_removewb = pynini.cdrewrite(pynini.t(\"[WB]\", \"\"), \"\", \"\", sigma_star)\n",
        "\n",
        "#alpha\n",
        "\n",
        "alphatoa_1 = pynini.transducer(\"ⲁ\", \"ɑː\")\n",
        "###rule_1###\n",
        "\n",
        "alphatoa_2 = pynini.transducer(\"ⲁ\", \"æ\")\n",
        "rule_2 = pynini.cdrewrite(alphatoa_2, \"\", \"ⲥ[WB]\", sigma_star)\n",
        "\n",
        "alphatoa_3 = pynini.transducer(\"ⲁ\", \"ɛ\")\n",
        "###rule_2###\n",
        "\n",
        "alphatoa_4 = pynini.transducer(\"ⲁ\", \"ə\")\n",
        "rule_3 = pynini.cdrewrite(alphatoa_4, \"\", wb, sigma_star)\n",
        "\n",
        "#veeta\n",
        "\n",
        "veetatov = pynini.transducer(\"ⲃ\", \"v\")\n",
        "rule_5 = pynini.cdrewrite(veetatov, \"\", \"ⲧ[WB]\", sigma_star)\n",
        "rule_6 = pynini.cdrewrite(veetatov, \"\", vowels, sigma_star)\n",
        "\n",
        "veetatob = pynini.transducer(\"ⲃ\", \"b\")\n",
        "rule_7 = pynini.cdrewrite(veetatob, \"\", \"ⲣ\", sigma_star)\n",
        "rule_8 = pynini.cdrewrite(veetatob, \"\", \"ⲥ\", sigma_star)\n",
        "rule_9 = pynini.cdrewrite(veetatob, \"\", wb, sigma_star)\n",
        "#this rule should be executed first due to the overlap in the vowel \"ⲓ\"\n",
        "rule_4 = pynini.cdrewrite(veetatob, \"\", \"ⲓⲙ[WB]\", sigma_star)\n",
        "\n",
        "#Gamma\n",
        "\n",
        "gammatog = pynini.transducer(\"ⲅ\", \"g\")\n",
        "rule_11 = pynini.cdrewrite(gammatog, \"\", \"ⲓ\", sigma_star)\n",
        "rule_12 = pynini.cdrewrite(gammatog, \"\", \"ⲉ\", sigma_star)\n",
        "\n",
        "gammaton = pynini.transducer(\"ⲅ\", \"n\")\n",
        "#this rule should be executed first\n",
        "rule_10 = pynini.cdrewrite(gammaton, \"\", \"ⲅ\", sigma_star)\n",
        "\n",
        "gammatogh = pynini.transducer(\"ⲅ\", \"gh\")\n",
        "rule_13 = pynini.cdrewrite(gammatogh, \"\", \"\", sigma_star)\n",
        "\n",
        "#delta\n",
        "\n",
        "deltatoth = pynini.transducer(\"ⲇ\", \"th\")\n",
        "###rule_14###\n",
        "\n",
        "deltatod = pynini.transducer(\"ⲇ\", \"d\")\n",
        "###rule_15###\n",
        "\n",
        "# sooto6 = pynini.transducer(\"ⲋ\", \"6\")\n",
        "# rule_16 = pynini.cdrewrite(sooto6, \"\", sigma_star)\n",
        "\n",
        "#ei\n",
        "eitoe_1 = pynini.transducer(\"ⲉ\", \"eɪ\")\n",
        "rule_18 = pynini.cdrewrite(eitoe_1, \"\", \"ⲟ\", sigma_star)\n",
        "\n",
        "eitoe_2 = pynini.transducer(\"ⲉ\", \"e\")\n",
        "rule_19 = pynini.cdrewrite(eitoe_2, \"\", \"\", sigma_star)\n",
        "\n",
        "#eeta\n",
        "eetatoy = pynini.transducer(\"ⲏ\", \"y\")\n",
        "#should be executed befire ei\n",
        "rule_17 = pynini.cdrewrite(eetatoy, \"ⲉ\", \"\", sigma_star)\n",
        "\n",
        "eetatoee = pynini.transducer(\"ⲏ\", \"ee\")\n",
        "rule_20 = pynini.cdrewrite(eetatoee, \"\", \"\", sigma_star)"
      ],
      "execution_count":8,
      "outputs":[
        {
          "ename":"TypeError",
          "evalue":"TypeError: cdrewrite() takes at least 4 positional arguments (3 given)",
          "traceback":[
            "\u001b[0;31m---------------------------------------------------------------------------",
            "Traceback (most recent call last)",
            "TypeError: cdrewrite() takes at least 4 positional arguments (3 given)"
          ],
          "output_type":"error"
        }
      ],
      "metadata":{
        
      }
    },
    {
      "cell_type":"code",
      "source":[
        "#1:1 mapping\n",
        "\n",
        "onetoone = pynini.string_file('\/usr\/local\/google\/home\/mshehata\/Desktop\/coptic.txt')\n",
        "rule_onetoone = pynini.cdrewrite(onetoone, \"\", \"\", sigma_star)"
      ],
      "execution_count":null,
      "outputs":[
        
      ],
      "metadata":{
        
      }
    },
    {
      "cell_type":"code",
      "source":[
        "#cdrewrite\n",
        "\n",
        "cascade = pynini.optimize(rule_addwb_1@rule_addwb_2@rule_1@rule_2@rule_3@rule_4@rule_5@rule_6@rule_7@rule_8@rule_9@rule_10@rule_11@rule_12@rule_13@rule_17@rule_18@rule_19@rule_20@rule_onetoone)"
      ],
      "execution_count":0,
      "outputs":[
        
      ],
      "metadata":{
        
      }
    },
    {
      "cell_type":"code",
      "source":[
        "translit_text = (word@cascade).stringify()\n",
        "print(translit_text)"
      ],
      "execution_count":0,
      "outputs":[
        
      ],
      "metadata":{
        
      }
    },
    {
      "cell_type":"code",
      "source":[
        "# TODO: Finish this loop to take in a file and iterate the above rules over its content\n",
        "with open ('\/usr\/local\/google\/home\/mshehata\/Desktop\/coptic-test.txt') as f:\n",
        "    for line in f:\n",
        "        final = line.strip()\n",
        "        final = (line@cascade).stringify\n",
        "        \n",
        "\n",
        "print(final)"
      ],
      "execution_count":null,
      "outputs":[
        
      ],
      "metadata":{
        
      }
    },
    {
      "cell_type":"code",
      "source":[
        "#Debugging\n",
        "def debug_cascade(word, *rules):\n",
        "    curr = word\n",
        "    print(\"Original:\", curr)\n",
        "    for i, rule in enumerate(rules):\n",
        "        curr @= rule\n",
        "        print(f\"Stage {i+1}:\", curr.stringify())\n",
        "\n",
        "debug_cascade(word, rule_1, rule_2, rule_3, rule_4, rule_5, rule_6, rule_7, \n",
        "              rule_8, rule_9, rule_10, rule_11, rule_12, rule_13, rule_14, \n",
        "              rule_15, rule_19, rule_20, rule_21, rule_22, rule_30)"
      ],
      "execution_count":null,
      "outputs":[
        
      ],
      "metadata":{
        
      }
    }
  ],
  "metadata":{
    
  },
  "nbformat":4,
  "nbformat_minor":0
}